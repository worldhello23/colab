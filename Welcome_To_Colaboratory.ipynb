{
  "cells": [
    {
      "cell_type": "markdown",
      "metadata": {
        "id": "view-in-github",
        "colab_type": "text"
      },
      "source": [
        "<a href=\"https://colab.research.google.com/github/worldhello23/colab/blob/main/Welcome_To_Colaboratory.ipynb\" target=\"_parent\"><img src=\"https://colab.research.google.com/assets/colab-badge.svg\" alt=\"Open In Colab\"/></a>"
      ]
    },
    {
      "cell_type": "code",
      "source": [
        "!pip install -U llama-index llama-index-indices-managed-vectara arxiv\n"
      ],
      "metadata": {
        "colab": {
          "base_uri": "https://localhost:8080/"
        },
        "id": "uODCC1_Xl7-3",
        "outputId": "5885a005-a7a4-4c75-a49d-a70c6434731d"
      },
      "execution_count": 2,
      "outputs": [
        {
          "output_type": "stream",
          "name": "stdout",
          "text": [
            "Collecting llama-index\n",
            "  Downloading llama_index-0.10.30-py3-none-any.whl (6.9 kB)\n",
            "Collecting llama-index-indices-managed-vectara\n",
            "  Downloading llama_index_indices_managed_vectara-0.1.4-py3-none-any.whl (12 kB)\n",
            "Collecting arxiv\n",
            "  Downloading arxiv-2.1.0-py3-none-any.whl (11 kB)\n",
            "Collecting llama-index-agent-openai<0.3.0,>=0.1.4 (from llama-index)\n",
            "  Downloading llama_index_agent_openai-0.2.2-py3-none-any.whl (12 kB)\n",
            "Collecting llama-index-cli<0.2.0,>=0.1.2 (from llama-index)\n",
            "  Downloading llama_index_cli-0.1.12-py3-none-any.whl (26 kB)\n",
            "Collecting llama-index-core<0.11.0,>=0.10.30 (from llama-index)\n",
            "  Downloading llama_index_core-0.10.30-py3-none-any.whl (15.4 MB)\n",
            "\u001b[2K     \u001b[90m━━━━━━━━━━━━━━━━━━━━━━━━━━━━━━━━━━━━━━━━\u001b[0m \u001b[32m15.4/15.4 MB\u001b[0m \u001b[31m41.0 MB/s\u001b[0m eta \u001b[36m0:00:00\u001b[0m\n",
            "\u001b[?25hCollecting llama-index-embeddings-openai<0.2.0,>=0.1.5 (from llama-index)\n",
            "  Downloading llama_index_embeddings_openai-0.1.7-py3-none-any.whl (6.0 kB)\n",
            "Collecting llama-index-indices-managed-llama-cloud<0.2.0,>=0.1.2 (from llama-index)\n",
            "  Downloading llama_index_indices_managed_llama_cloud-0.1.5-py3-none-any.whl (6.7 kB)\n",
            "Collecting llama-index-legacy<0.10.0,>=0.9.48 (from llama-index)\n",
            "  Downloading llama_index_legacy-0.9.48-py3-none-any.whl (2.0 MB)\n",
            "\u001b[2K     \u001b[90m━━━━━━━━━━━━━━━━━━━━━━━━━━━━━━━━━━━━━━━━\u001b[0m \u001b[32m2.0/2.0 MB\u001b[0m \u001b[31m48.4 MB/s\u001b[0m eta \u001b[36m0:00:00\u001b[0m\n",
            "\u001b[?25hCollecting llama-index-llms-openai<0.2.0,>=0.1.13 (from llama-index)\n",
            "  Downloading llama_index_llms_openai-0.1.15-py3-none-any.whl (10 kB)\n",
            "Collecting llama-index-multi-modal-llms-openai<0.2.0,>=0.1.3 (from llama-index)\n",
            "  Downloading llama_index_multi_modal_llms_openai-0.1.5-py3-none-any.whl (5.8 kB)\n",
            "Collecting llama-index-program-openai<0.2.0,>=0.1.3 (from llama-index)\n",
            "  Downloading llama_index_program_openai-0.1.5-py3-none-any.whl (4.1 kB)\n",
            "Collecting llama-index-question-gen-openai<0.2.0,>=0.1.2 (from llama-index)\n",
            "  Downloading llama_index_question_gen_openai-0.1.3-py3-none-any.whl (2.9 kB)\n",
            "Collecting llama-index-readers-file<0.2.0,>=0.1.4 (from llama-index)\n",
            "  Downloading llama_index_readers_file-0.1.19-py3-none-any.whl (36 kB)\n",
            "Collecting llama-index-readers-llama-parse<0.2.0,>=0.1.2 (from llama-index)\n",
            "  Downloading llama_index_readers_llama_parse-0.1.4-py3-none-any.whl (2.5 kB)\n",
            "Collecting feedparser==6.0.10 (from arxiv)\n",
            "  Downloading feedparser-6.0.10-py3-none-any.whl (81 kB)\n",
            "\u001b[2K     \u001b[90m━━━━━━━━━━━━━━━━━━━━━━━━━━━━━━━━━━━━━━━━\u001b[0m \u001b[32m81.1/81.1 kB\u001b[0m \u001b[31m8.4 MB/s\u001b[0m eta \u001b[36m0:00:00\u001b[0m\n",
            "\u001b[?25hRequirement already satisfied: requests==2.31.0 in /usr/local/lib/python3.10/dist-packages (from arxiv) (2.31.0)\n",
            "Collecting sgmllib3k (from feedparser==6.0.10->arxiv)\n",
            "  Downloading sgmllib3k-1.0.0.tar.gz (5.8 kB)\n",
            "  Preparing metadata (setup.py) ... \u001b[?25l\u001b[?25hdone\n",
            "Requirement already satisfied: charset-normalizer<4,>=2 in /usr/local/lib/python3.10/dist-packages (from requests==2.31.0->arxiv) (3.3.2)\n",
            "Requirement already satisfied: idna<4,>=2.5 in /usr/local/lib/python3.10/dist-packages (from requests==2.31.0->arxiv) (3.7)\n",
            "Requirement already satisfied: urllib3<3,>=1.21.1 in /usr/local/lib/python3.10/dist-packages (from requests==2.31.0->arxiv) (2.0.7)\n",
            "Requirement already satisfied: certifi>=2017.4.17 in /usr/local/lib/python3.10/dist-packages (from requests==2.31.0->arxiv) (2024.2.2)\n",
            "Collecting openai>=1.14.0 (from llama-index-agent-openai<0.3.0,>=0.1.4->llama-index)\n",
            "  Downloading openai-1.23.1-py3-none-any.whl (310 kB)\n",
            "\u001b[2K     \u001b[90m━━━━━━━━━━━━━━━━━━━━━━━━━━━━━━━━━━━━━━━━\u001b[0m \u001b[32m311.0/311.0 kB\u001b[0m \u001b[31m25.0 MB/s\u001b[0m eta \u001b[36m0:00:00\u001b[0m\n",
            "\u001b[?25hRequirement already satisfied: PyYAML>=6.0.1 in /usr/local/lib/python3.10/dist-packages (from llama-index-core<0.11.0,>=0.10.30->llama-index) (6.0.1)\n",
            "Requirement already satisfied: SQLAlchemy[asyncio]>=1.4.49 in /usr/local/lib/python3.10/dist-packages (from llama-index-core<0.11.0,>=0.10.30->llama-index) (2.0.29)\n",
            "Requirement already satisfied: aiohttp<4.0.0,>=3.8.6 in /usr/local/lib/python3.10/dist-packages (from llama-index-core<0.11.0,>=0.10.30->llama-index) (3.9.5)\n",
            "Collecting dataclasses-json (from llama-index-core<0.11.0,>=0.10.30->llama-index)\n",
            "  Downloading dataclasses_json-0.6.4-py3-none-any.whl (28 kB)\n",
            "Collecting deprecated>=1.2.9.3 (from llama-index-core<0.11.0,>=0.10.30->llama-index)\n",
            "  Downloading Deprecated-1.2.14-py2.py3-none-any.whl (9.6 kB)\n",
            "Collecting dirtyjson<2.0.0,>=1.0.8 (from llama-index-core<0.11.0,>=0.10.30->llama-index)\n",
            "  Downloading dirtyjson-1.0.8-py3-none-any.whl (25 kB)\n",
            "Requirement already satisfied: fsspec>=2023.5.0 in /usr/local/lib/python3.10/dist-packages (from llama-index-core<0.11.0,>=0.10.30->llama-index) (2023.6.0)\n",
            "Collecting httpx (from llama-index-core<0.11.0,>=0.10.30->llama-index)\n",
            "  Downloading httpx-0.27.0-py3-none-any.whl (75 kB)\n",
            "\u001b[2K     \u001b[90m━━━━━━━━━━━━━━━━━━━━━━━━━━━━━━━━━━━━━━━━\u001b[0m \u001b[32m75.6/75.6 kB\u001b[0m \u001b[31m8.2 MB/s\u001b[0m eta \u001b[36m0:00:00\u001b[0m\n",
            "\u001b[?25hCollecting llamaindex-py-client<0.2.0,>=0.1.18 (from llama-index-core<0.11.0,>=0.10.30->llama-index)\n",
            "  Downloading llamaindex_py_client-0.1.18-py3-none-any.whl (136 kB)\n",
            "\u001b[2K     \u001b[90m━━━━━━━━━━━━━━━━━━━━━━━━━━━━━━━━━━━━━━━━\u001b[0m \u001b[32m136.1/136.1 kB\u001b[0m \u001b[31m14.4 MB/s\u001b[0m eta \u001b[36m0:00:00\u001b[0m\n",
            "\u001b[?25hRequirement already satisfied: nest-asyncio<2.0.0,>=1.5.8 in /usr/local/lib/python3.10/dist-packages (from llama-index-core<0.11.0,>=0.10.30->llama-index) (1.6.0)\n",
            "Requirement already satisfied: networkx>=3.0 in /usr/local/lib/python3.10/dist-packages (from llama-index-core<0.11.0,>=0.10.30->llama-index) (3.3)\n",
            "Requirement already satisfied: nltk<4.0.0,>=3.8.1 in /usr/local/lib/python3.10/dist-packages (from llama-index-core<0.11.0,>=0.10.30->llama-index) (3.8.1)\n",
            "Requirement already satisfied: numpy in /usr/local/lib/python3.10/dist-packages (from llama-index-core<0.11.0,>=0.10.30->llama-index) (1.25.2)\n",
            "Requirement already satisfied: pandas in /usr/local/lib/python3.10/dist-packages (from llama-index-core<0.11.0,>=0.10.30->llama-index) (2.0.3)\n",
            "Requirement already satisfied: pillow>=9.0.0 in /usr/local/lib/python3.10/dist-packages (from llama-index-core<0.11.0,>=0.10.30->llama-index) (9.4.0)\n",
            "Requirement already satisfied: tenacity<9.0.0,>=8.2.0 in /usr/local/lib/python3.10/dist-packages (from llama-index-core<0.11.0,>=0.10.30->llama-index) (8.2.3)\n",
            "Collecting tiktoken>=0.3.3 (from llama-index-core<0.11.0,>=0.10.30->llama-index)\n",
            "  Downloading tiktoken-0.6.0-cp310-cp310-manylinux_2_17_x86_64.manylinux2014_x86_64.whl (1.8 MB)\n",
            "\u001b[2K     \u001b[90m━━━━━━━━━━━━━━━━━━━━━━━━━━━━━━━━━━━━━━━━\u001b[0m \u001b[32m1.8/1.8 MB\u001b[0m \u001b[31m73.8 MB/s\u001b[0m eta \u001b[36m0:00:00\u001b[0m\n",
            "\u001b[?25hRequirement already satisfied: tqdm<5.0.0,>=4.66.1 in /usr/local/lib/python3.10/dist-packages (from llama-index-core<0.11.0,>=0.10.30->llama-index) (4.66.2)\n",
            "Requirement already satisfied: typing-extensions>=4.5.0 in /usr/local/lib/python3.10/dist-packages (from llama-index-core<0.11.0,>=0.10.30->llama-index) (4.11.0)\n",
            "Collecting typing-inspect>=0.8.0 (from llama-index-core<0.11.0,>=0.10.30->llama-index)\n",
            "  Downloading typing_inspect-0.9.0-py3-none-any.whl (8.8 kB)\n",
            "Requirement already satisfied: wrapt in /usr/local/lib/python3.10/dist-packages (from llama-index-core<0.11.0,>=0.10.30->llama-index) (1.14.1)\n",
            "Requirement already satisfied: beautifulsoup4<5.0.0,>=4.12.3 in /usr/local/lib/python3.10/dist-packages (from llama-index-readers-file<0.2.0,>=0.1.4->llama-index) (4.12.3)\n",
            "Collecting pypdf<5.0.0,>=4.0.1 (from llama-index-readers-file<0.2.0,>=0.1.4->llama-index)\n",
            "  Downloading pypdf-4.2.0-py3-none-any.whl (290 kB)\n",
            "\u001b[2K     \u001b[90m━━━━━━━━━━━━━━━━━━━━━━━━━━━━━━━━━━━━━━━━\u001b[0m \u001b[32m290.4/290.4 kB\u001b[0m \u001b[31m26.2 MB/s\u001b[0m eta \u001b[36m0:00:00\u001b[0m\n",
            "\u001b[?25hCollecting striprtf<0.0.27,>=0.0.26 (from llama-index-readers-file<0.2.0,>=0.1.4->llama-index)\n",
            "  Downloading striprtf-0.0.26-py3-none-any.whl (6.9 kB)\n",
            "Collecting llama-parse<0.5.0,>=0.4.0 (from llama-index-readers-llama-parse<0.2.0,>=0.1.2->llama-index)\n",
            "  Downloading llama_parse-0.4.1-py3-none-any.whl (7.3 kB)\n",
            "Requirement already satisfied: aiosignal>=1.1.2 in /usr/local/lib/python3.10/dist-packages (from aiohttp<4.0.0,>=3.8.6->llama-index-core<0.11.0,>=0.10.30->llama-index) (1.3.1)\n",
            "Requirement already satisfied: attrs>=17.3.0 in /usr/local/lib/python3.10/dist-packages (from aiohttp<4.0.0,>=3.8.6->llama-index-core<0.11.0,>=0.10.30->llama-index) (23.2.0)\n",
            "Requirement already satisfied: frozenlist>=1.1.1 in /usr/local/lib/python3.10/dist-packages (from aiohttp<4.0.0,>=3.8.6->llama-index-core<0.11.0,>=0.10.30->llama-index) (1.4.1)\n",
            "Requirement already satisfied: multidict<7.0,>=4.5 in /usr/local/lib/python3.10/dist-packages (from aiohttp<4.0.0,>=3.8.6->llama-index-core<0.11.0,>=0.10.30->llama-index) (6.0.5)\n",
            "Requirement already satisfied: yarl<2.0,>=1.0 in /usr/local/lib/python3.10/dist-packages (from aiohttp<4.0.0,>=3.8.6->llama-index-core<0.11.0,>=0.10.30->llama-index) (1.9.4)\n",
            "Requirement already satisfied: async-timeout<5.0,>=4.0 in /usr/local/lib/python3.10/dist-packages (from aiohttp<4.0.0,>=3.8.6->llama-index-core<0.11.0,>=0.10.30->llama-index) (4.0.3)\n",
            "Requirement already satisfied: soupsieve>1.2 in /usr/local/lib/python3.10/dist-packages (from beautifulsoup4<5.0.0,>=4.12.3->llama-index-readers-file<0.2.0,>=0.1.4->llama-index) (2.5)\n",
            "Requirement already satisfied: pydantic>=1.10 in /usr/local/lib/python3.10/dist-packages (from llamaindex-py-client<0.2.0,>=0.1.18->llama-index-core<0.11.0,>=0.10.30->llama-index) (2.7.0)\n",
            "Requirement already satisfied: anyio in /usr/local/lib/python3.10/dist-packages (from httpx->llama-index-core<0.11.0,>=0.10.30->llama-index) (3.7.1)\n",
            "Collecting httpcore==1.* (from httpx->llama-index-core<0.11.0,>=0.10.30->llama-index)\n",
            "  Downloading httpcore-1.0.5-py3-none-any.whl (77 kB)\n",
            "\u001b[2K     \u001b[90m━━━━━━━━━━━━━━━━━━━━━━━━━━━━━━━━━━━━━━━━\u001b[0m \u001b[32m77.9/77.9 kB\u001b[0m \u001b[31m8.0 MB/s\u001b[0m eta \u001b[36m0:00:00\u001b[0m\n",
            "\u001b[?25hRequirement already satisfied: sniffio in /usr/local/lib/python3.10/dist-packages (from httpx->llama-index-core<0.11.0,>=0.10.30->llama-index) (1.3.1)\n",
            "Collecting h11<0.15,>=0.13 (from httpcore==1.*->httpx->llama-index-core<0.11.0,>=0.10.30->llama-index)\n",
            "  Downloading h11-0.14.0-py3-none-any.whl (58 kB)\n",
            "\u001b[2K     \u001b[90m━━━━━━━━━━━━━━━━━━━━━━━━━━━━━━━━━━━━━━━━\u001b[0m \u001b[32m58.3/58.3 kB\u001b[0m \u001b[31m5.0 MB/s\u001b[0m eta \u001b[36m0:00:00\u001b[0m\n",
            "\u001b[?25hRequirement already satisfied: click in /usr/local/lib/python3.10/dist-packages (from nltk<4.0.0,>=3.8.1->llama-index-core<0.11.0,>=0.10.30->llama-index) (8.1.7)\n",
            "Requirement already satisfied: joblib in /usr/local/lib/python3.10/dist-packages (from nltk<4.0.0,>=3.8.1->llama-index-core<0.11.0,>=0.10.30->llama-index) (1.4.0)\n",
            "Requirement already satisfied: regex>=2021.8.3 in /usr/local/lib/python3.10/dist-packages (from nltk<4.0.0,>=3.8.1->llama-index-core<0.11.0,>=0.10.30->llama-index) (2023.12.25)\n",
            "Requirement already satisfied: distro<2,>=1.7.0 in /usr/lib/python3/dist-packages (from openai>=1.14.0->llama-index-agent-openai<0.3.0,>=0.1.4->llama-index) (1.7.0)\n",
            "Requirement already satisfied: greenlet!=0.4.17 in /usr/local/lib/python3.10/dist-packages (from SQLAlchemy[asyncio]>=1.4.49->llama-index-core<0.11.0,>=0.10.30->llama-index) (3.0.3)\n",
            "Collecting mypy-extensions>=0.3.0 (from typing-inspect>=0.8.0->llama-index-core<0.11.0,>=0.10.30->llama-index)\n",
            "  Downloading mypy_extensions-1.0.0-py3-none-any.whl (4.7 kB)\n",
            "Collecting marshmallow<4.0.0,>=3.18.0 (from dataclasses-json->llama-index-core<0.11.0,>=0.10.30->llama-index)\n",
            "  Downloading marshmallow-3.21.1-py3-none-any.whl (49 kB)\n",
            "\u001b[2K     \u001b[90m━━━━━━━━━━━━━━━━━━━━━━━━━━━━━━━━━━━━━━━━\u001b[0m \u001b[32m49.4/49.4 kB\u001b[0m \u001b[31m4.7 MB/s\u001b[0m eta \u001b[36m0:00:00\u001b[0m\n",
            "\u001b[?25hRequirement already satisfied: python-dateutil>=2.8.2 in /usr/local/lib/python3.10/dist-packages (from pandas->llama-index-core<0.11.0,>=0.10.30->llama-index) (2.8.2)\n",
            "Requirement already satisfied: pytz>=2020.1 in /usr/local/lib/python3.10/dist-packages (from pandas->llama-index-core<0.11.0,>=0.10.30->llama-index) (2023.4)\n",
            "Requirement already satisfied: tzdata>=2022.1 in /usr/local/lib/python3.10/dist-packages (from pandas->llama-index-core<0.11.0,>=0.10.30->llama-index) (2024.1)\n",
            "Requirement already satisfied: exceptiongroup in /usr/local/lib/python3.10/dist-packages (from anyio->httpx->llama-index-core<0.11.0,>=0.10.30->llama-index) (1.2.0)\n",
            "Requirement already satisfied: packaging>=17.0 in /usr/local/lib/python3.10/dist-packages (from marshmallow<4.0.0,>=3.18.0->dataclasses-json->llama-index-core<0.11.0,>=0.10.30->llama-index) (24.0)\n",
            "Requirement already satisfied: annotated-types>=0.4.0 in /usr/local/lib/python3.10/dist-packages (from pydantic>=1.10->llamaindex-py-client<0.2.0,>=0.1.18->llama-index-core<0.11.0,>=0.10.30->llama-index) (0.6.0)\n",
            "Requirement already satisfied: pydantic-core==2.18.1 in /usr/local/lib/python3.10/dist-packages (from pydantic>=1.10->llamaindex-py-client<0.2.0,>=0.1.18->llama-index-core<0.11.0,>=0.10.30->llama-index) (2.18.1)\n",
            "Requirement already satisfied: six>=1.5 in /usr/local/lib/python3.10/dist-packages (from python-dateutil>=2.8.2->pandas->llama-index-core<0.11.0,>=0.10.30->llama-index) (1.16.0)\n",
            "Building wheels for collected packages: sgmllib3k\n",
            "  Building wheel for sgmllib3k (setup.py) ... \u001b[?25l\u001b[?25hdone\n",
            "  Created wheel for sgmllib3k: filename=sgmllib3k-1.0.0-py3-none-any.whl size=6049 sha256=68bb7c7a27db629effac586a2f24438d12c661c6302e12fbec39911680c5e4a9\n",
            "  Stored in directory: /root/.cache/pip/wheels/f0/69/93/a47e9d621be168e9e33c7ce60524393c0b92ae83cf6c6e89c5\n",
            "Successfully built sgmllib3k\n",
            "Installing collected packages: striprtf, sgmllib3k, dirtyjson, pypdf, mypy-extensions, marshmallow, h11, feedparser, deprecated, typing-inspect, tiktoken, httpcore, arxiv, httpx, dataclasses-json, openai, llamaindex-py-client, llama-index-legacy, llama-index-core, llama-parse, llama-index-readers-file, llama-index-llms-openai, llama-index-indices-managed-vectara, llama-index-indices-managed-llama-cloud, llama-index-embeddings-openai, llama-index-readers-llama-parse, llama-index-multi-modal-llms-openai, llama-index-cli, llama-index-agent-openai, llama-index-program-openai, llama-index-question-gen-openai, llama-index\n",
            "Successfully installed arxiv-2.1.0 dataclasses-json-0.6.4 deprecated-1.2.14 dirtyjson-1.0.8 feedparser-6.0.10 h11-0.14.0 httpcore-1.0.5 httpx-0.27.0 llama-index-0.10.30 llama-index-agent-openai-0.2.2 llama-index-cli-0.1.12 llama-index-core-0.10.30 llama-index-embeddings-openai-0.1.7 llama-index-indices-managed-llama-cloud-0.1.5 llama-index-indices-managed-vectara-0.1.4 llama-index-legacy-0.9.48 llama-index-llms-openai-0.1.15 llama-index-multi-modal-llms-openai-0.1.5 llama-index-program-openai-0.1.5 llama-index-question-gen-openai-0.1.3 llama-index-readers-file-0.1.19 llama-index-readers-llama-parse-0.1.4 llama-parse-0.4.1 llamaindex-py-client-0.1.18 marshmallow-3.21.1 mypy-extensions-1.0.0 openai-1.23.1 pypdf-4.2.0 sgmllib3k-1.0.0 striprtf-0.0.26 tiktoken-0.6.0 typing-inspect-0.9.0\n"
          ]
        }
      ]
    },
    {
      "cell_type": "code",
      "source": [
        "from google.colab import userdata\n",
        "vec_api = userdata.get('vectara-api')\n",
        "cust_id = userdata.get('cust')"
      ],
      "metadata": {
        "id": "FqtAlzNIndj5"
      },
      "execution_count": 3,
      "outputs": []
    },
    {
      "cell_type": "code",
      "source": [
        "tog = userdata.get('together')"
      ],
      "metadata": {
        "id": "jSzGNBEZNsd6"
      },
      "execution_count": 8,
      "outputs": []
    },
    {
      "cell_type": "code",
      "source": [
        "tog"
      ],
      "metadata": {
        "colab": {
          "base_uri": "https://localhost:8080/",
          "height": 35
        },
        "id": "e5qQw-V8NxAx",
        "outputId": "0893aa82-155c-4415-e8c7-714c634eee7b"
      },
      "execution_count": 9,
      "outputs": [
        {
          "output_type": "execute_result",
          "data": {
            "text/plain": [
              "'70c192cde2bc0a635be2c05521e7fd756da8a38c0b3f7f52cab8ae267f527753'"
            ],
            "application/vnd.google.colaboratory.intrinsic+json": {
              "type": "string"
            }
          },
          "metadata": {},
          "execution_count": 9
        }
      ]
    },
    {
      "cell_type": "code",
      "source": [
        "!pip install together"
      ],
      "metadata": {
        "colab": {
          "base_uri": "https://localhost:8080/",
          "height": 811
        },
        "id": "ULHENWZNONL3",
        "outputId": "2c61f195-3a3d-424d-ba11-c595008ba18e"
      },
      "execution_count": 11,
      "outputs": [
        {
          "output_type": "stream",
          "name": "stdout",
          "text": [
            "Collecting together\n",
            "  Downloading together-1.1.2-py3-none-any.whl (59 kB)\n",
            "\u001b[2K     \u001b[90m━━━━━━━━━━━━━━━━━━━━━━━━━━━━━━━━━━━━━━━━\u001b[0m \u001b[32m59.4/59.4 kB\u001b[0m \u001b[31m1.6 MB/s\u001b[0m eta \u001b[36m0:00:00\u001b[0m\n",
            "\u001b[?25hRequirement already satisfied: aiohttp<4.0.0,>=3.9.3 in /usr/local/lib/python3.10/dist-packages (from together) (3.9.5)\n",
            "Requirement already satisfied: click<9.0.0,>=8.1.7 in /usr/local/lib/python3.10/dist-packages (from together) (8.1.7)\n",
            "Collecting eval-type-backport<0.2.0,>=0.1.3 (from together)\n",
            "  Downloading eval_type_backport-0.1.3-py3-none-any.whl (5.6 kB)\n",
            "Requirement already satisfied: filelock<4.0.0,>=3.13.1 in /usr/local/lib/python3.10/dist-packages (from together) (3.13.4)\n",
            "Requirement already satisfied: numpy>=1.23.5 in /usr/local/lib/python3.10/dist-packages (from together) (1.25.2)\n",
            "Collecting pillow<11.0.0,>=10.3.0 (from together)\n",
            "  Downloading pillow-10.3.0-cp310-cp310-manylinux_2_28_x86_64.whl (4.5 MB)\n",
            "\u001b[2K     \u001b[90m━━━━━━━━━━━━━━━━━━━━━━━━━━━━━━━━━━━━━━━━\u001b[0m \u001b[32m4.5/4.5 MB\u001b[0m \u001b[31m11.2 MB/s\u001b[0m eta \u001b[36m0:00:00\u001b[0m\n",
            "\u001b[?25hRequirement already satisfied: pyarrow>=10.0.1 in /usr/local/lib/python3.10/dist-packages (from together) (14.0.2)\n",
            "Requirement already satisfied: pydantic<3.0.0,>=2.6.3 in /usr/local/lib/python3.10/dist-packages (from together) (2.7.0)\n",
            "Requirement already satisfied: requests<3.0.0,>=2.31.0 in /usr/local/lib/python3.10/dist-packages (from together) (2.31.0)\n",
            "Requirement already satisfied: tabulate<0.10.0,>=0.9.0 in /usr/local/lib/python3.10/dist-packages (from together) (0.9.0)\n",
            "Requirement already satisfied: tqdm<5.0.0,>=4.66.2 in /usr/local/lib/python3.10/dist-packages (from together) (4.66.2)\n",
            "Requirement already satisfied: typer<0.13,>=0.9 in /usr/local/lib/python3.10/dist-packages (from together) (0.9.4)\n",
            "Requirement already satisfied: aiosignal>=1.1.2 in /usr/local/lib/python3.10/dist-packages (from aiohttp<4.0.0,>=3.9.3->together) (1.3.1)\n",
            "Requirement already satisfied: attrs>=17.3.0 in /usr/local/lib/python3.10/dist-packages (from aiohttp<4.0.0,>=3.9.3->together) (23.2.0)\n",
            "Requirement already satisfied: frozenlist>=1.1.1 in /usr/local/lib/python3.10/dist-packages (from aiohttp<4.0.0,>=3.9.3->together) (1.4.1)\n",
            "Requirement already satisfied: multidict<7.0,>=4.5 in /usr/local/lib/python3.10/dist-packages (from aiohttp<4.0.0,>=3.9.3->together) (6.0.5)\n",
            "Requirement already satisfied: yarl<2.0,>=1.0 in /usr/local/lib/python3.10/dist-packages (from aiohttp<4.0.0,>=3.9.3->together) (1.9.4)\n",
            "Requirement already satisfied: async-timeout<5.0,>=4.0 in /usr/local/lib/python3.10/dist-packages (from aiohttp<4.0.0,>=3.9.3->together) (4.0.3)\n",
            "Requirement already satisfied: annotated-types>=0.4.0 in /usr/local/lib/python3.10/dist-packages (from pydantic<3.0.0,>=2.6.3->together) (0.6.0)\n",
            "Requirement already satisfied: pydantic-core==2.18.1 in /usr/local/lib/python3.10/dist-packages (from pydantic<3.0.0,>=2.6.3->together) (2.18.1)\n",
            "Requirement already satisfied: typing-extensions>=4.6.1 in /usr/local/lib/python3.10/dist-packages (from pydantic<3.0.0,>=2.6.3->together) (4.11.0)\n",
            "Requirement already satisfied: charset-normalizer<4,>=2 in /usr/local/lib/python3.10/dist-packages (from requests<3.0.0,>=2.31.0->together) (3.3.2)\n",
            "Requirement already satisfied: idna<4,>=2.5 in /usr/local/lib/python3.10/dist-packages (from requests<3.0.0,>=2.31.0->together) (3.7)\n",
            "Requirement already satisfied: urllib3<3,>=1.21.1 in /usr/local/lib/python3.10/dist-packages (from requests<3.0.0,>=2.31.0->together) (2.0.7)\n",
            "Requirement already satisfied: certifi>=2017.4.17 in /usr/local/lib/python3.10/dist-packages (from requests<3.0.0,>=2.31.0->together) (2024.2.2)\n",
            "Installing collected packages: pillow, eval-type-backport, together\n",
            "  Attempting uninstall: pillow\n",
            "    Found existing installation: Pillow 9.4.0\n",
            "    Uninstalling Pillow-9.4.0:\n",
            "      Successfully uninstalled Pillow-9.4.0\n",
            "\u001b[31mERROR: pip's dependency resolver does not currently take into account all the packages that are installed. This behaviour is the source of the following dependency conflicts.\n",
            "imageio 2.31.6 requires pillow<10.1.0,>=8.3.2, but you have pillow 10.3.0 which is incompatible.\u001b[0m\u001b[31m\n",
            "\u001b[0mSuccessfully installed eval-type-backport-0.1.3 pillow-10.3.0 together-1.1.2\n"
          ]
        },
        {
          "output_type": "display_data",
          "data": {
            "application/vnd.colab-display-data+json": {
              "pip_warning": {
                "packages": [
                  "PIL"
                ]
              },
              "id": "8481a8b9cd854c709acb93afb7da74ea"
            }
          },
          "metadata": {}
        }
      ]
    },
    {
      "cell_type": "code",
      "source": [
        "import requests\n",
        "import json\n",
        "\n",
        "url = \"https://api.vectara.io/v1/query\"\n",
        "\n",
        "payload = json.dumps({\n",
        "  \"query\": [\n",
        "    {\n",
        "      \"query\": \"Who is Gabor Mate?\",\n",
        "      \"start\": 0,\n",
        "      \"numResults\": 10,\n",
        "      \"contextConfig\": {\n",
        "        \"sentences_before\": 3,\n",
        "        \"sentences_after\": 3,\n",
        "        \"start_tag\": \"<b>\",\n",
        "        \"end_tag\": \"</b>\"\n",
        "      },\n",
        "      \"corpusKey\": [\n",
        "        {\n",
        "          \"corpus_id\": 4\n",
        "        }\n",
        "      ],\n",
        "      \"summary\": [\n",
        "        {\n",
        "          \"max_summarized_results\": 10,\n",
        "          \"response_lang\": \"en\"\n",
        "        }\n",
        "      ]\n",
        "    }\n",
        "  ]\n",
        "})\n",
        "headers = {\n",
        "  'Content-Type': 'application/json',\n",
        "  'Accept': 'application/json',\n",
        "  'x-api-key': vec_api\n",
        "}\n",
        "\n",
        "response = requests.request(\"POST\", url, headers=headers, data=payload)\n",
        "\n",
        "print(response.text)"
      ],
      "metadata": {
        "colab": {
          "base_uri": "https://localhost:8080/"
        },
        "id": "C1MzRVJprb4W",
        "outputId": "5d2b2f02-d10e-499a-f987-6cefde580183"
      },
      "execution_count": 4,
      "outputs": [
        {
          "output_type": "stream",
          "name": "stdout",
          "text": [
            "{\"responseSet\":[{\"response\":[{\"text\":\"11 only time on the show I hope this starts to become a regular guest on the show I'm talking about none other than Dr 12 <b>Gabor mate who's a cell rated speaker and best-selling author he's highly</b> 13 sought after for his expertise on a range of topics such as addiction stress and childhood development Dr mate has 14\",\"score\":0.77499425,\"metadata\":[{\"name\":\"time\",\"value\":\"1:18\"},{\"name\":\"title\",\"value\":\"12\"},{\"name\":\"lang\",\"value\":\"eng\"},{\"name\":\"offset\",\"value\":\"0\"},{\"name\":\"len\",\"value\":\"73\"}],\"documentIndex\":0,\"corpusKey\":{\"customerId\":0,\"corpusId\":4,\"semantics\":\"DEFAULT\",\"dim\":[],\"metadataFilter\":\"\",\"lexicalInterpolationConfig\":null},\"resultOffset\":125,\"resultLength\":73},{\"text\":\"20 is called the myth of normal trauma illness and healing in a toxic culture 21 <b>please welcome to the show Dr Gabor mate thank you so much for being here</b> 22 pleasure to be here thank you I love sitting down with people who are deeply immersed and obsessed 23\",\"score\":0.7194565,\"metadata\":[{\"name\":\"time\",\"value\":\"2:15\"},{\"name\":\"title\",\"value\":\"21\"},{\"name\":\"lang\",\"value\":\"eng\"},{\"name\":\"offset\",\"value\":\"0\"},{\"name\":\"len\",\"value\":\"73\"}],\"documentIndex\":0,\"corpusKey\":{\"customerId\":0,\"corpusId\":4,\"semantics\":\"DEFAULT\",\"dim\":[],\"metadataFilter\":\"\",\"lexicalInterpolationConfig\":null},\"resultOffset\":84,\"resultLength\":73},{\"text\":\"759 answer we've never had that on the show I love that answer that's a brilliant answer that's fantastic I love I love 760 <b>the way you think the myth of normal is out right now trauma illness and healing in a toxic culture Dr gabo mate uh it's</b> 761 been an honor thank you so much it's been so much fun and we'll do it again absolutely thank you thank you thank you if you want even more videos just like 762\",\"score\":0.62762123,\"metadata\":[{\"name\":\"time\",\"value\":\"1:18:30\"},{\"name\":\"title\",\"value\":\"760\"},{\"name\":\"lang\",\"value\":\"eng\"},{\"name\":\"offset\",\"value\":\"0\"},{\"name\":\"len\",\"value\":\"120\"}],\"documentIndex\":0,\"corpusKey\":{\"customerId\":0,\"corpusId\":4,\"semantics\":\"DEFAULT\",\"dim\":[],\"metadataFilter\":\"\",\"lexicalInterpolationConfig\":null},\"resultOffset\":127,\"resultLength\":120},{\"text\":\"726 Instagram so if you want to see my notes or takeaways then they'll be there as well and please please please follow Dr 727 <b>mate on Instagram as well we will put the links in the show notes follow him</b> 728 and share all the insights that you got from this if there's something that stood out I mean there were so many beautiful descriptions of words 729\",\"score\":0.609283,\"metadata\":[{\"name\":\"time\",\"value\":\"1:15:13\"},{\"name\":\"title\",\"value\":\"727\"},{\"name\":\"lang\",\"value\":\"eng\"},{\"name\":\"offset\",\"value\":\"0\"},{\"name\":\"len\",\"value\":\"76\"}],\"documentIndex\":0,\"corpusKey\":{\"customerId\":0,\"corpusId\":4,\"semantics\":\"DEFAULT\",\"dim\":[],\"metadataFilter\":\"\",\"lexicalInterpolationConfig\":null},\"resultOffset\":130,\"resultLength\":76},{\"text\":\"179 in this Society yeah just to share some of those stats that are in the book that 180 <b>Dr mate is referring to we have in 2019 more than 50 million Americans over 20 percent of the US</b> 181 adults suffered an episode of mental illness rates of obesity along with the multiple health risks it possesses are 182\",\"score\":0.59802526,\"metadata\":[{\"name\":\"time\",\"value\":\"18:48\"},{\"name\":\"title\",\"value\":\"180\"},{\"name\":\"lang\",\"value\":\"eng\"},{\"name\":\"offset\",\"value\":\"0\"},{\"name\":\"len\",\"value\":\"96\"}],\"documentIndex\":0,\"corpusKey\":{\"customerId\":0,\"corpusId\":4,\"semantics\":\"DEFAULT\",\"dim\":[],\"metadataFilter\":\"\",\"lexicalInterpolationConfig\":null},\"resultOffset\":92,\"resultLength\":96},{\"text\":\"733 which are our fast five questions uh is there anything you'd like to share that I have given you an opportunity Yes to 734 <b>God I can't think of anything that you ever knows I love it okay well these are five questions that have to be answered Dr. Maté on Final Five</b> 735 in one word to one sentence maximum so you have like a very tight like almost think of like Twitter these are final 736\",\"score\":0.58374894,\"metadata\":[{\"name\":\"time\",\"value\":\"1:15:52\"},{\"name\":\"title\",\"value\":\"734\"},{\"name\":\"lang\",\"value\":\"eng\"},{\"name\":\"offset\",\"value\":\"0\"},{\"name\":\"len\",\"value\":\"142\"}],\"documentIndex\":0,\"corpusKey\":{\"customerId\":0,\"corpusId\":4,\"semantics\":\"DEFAULT\",\"dim\":[],\"metadataFilter\":\"\",\"lexicalInterpolationConfig\":null},\"resultOffset\":130,\"resultLength\":142},{\"text\":\"106 be made to feel guilty that I didn't love someone enough and I found that I would repeat that in 107 <b>my own relationship with my wife where I would over love and if she didn't match that level of</b> 108 love I would then make her feel guilty and it took me years to really discover 109\",\"score\":0.5758336,\"metadata\":[{\"name\":\"time\",\"value\":\"11:11\"},{\"name\":\"title\",\"value\":\"107\"},{\"name\":\"lang\",\"value\":\"eng\"},{\"name\":\"offset\",\"value\":\"0\"},{\"name\":\"len\",\"value\":\"94\"}],\"documentIndex\":0,\"corpusKey\":{\"customerId\":0,\"corpusId\":4,\"semantics\":\"DEFAULT\",\"dim\":[],\"metadataFilter\":\"\",\"lexicalInterpolationConfig\":null},\"resultOffset\":108,\"resultLength\":94},{\"text\":\"729 definitions Clarity between ideas that I think have just just words that we use 730 <b>every day and we don't know what they mean so if something stood out to you tag me and Dr Mateo on Instagram on</b> 731 Twitter on Tick Tock let us know what you've learned and what you've taken away and I promise you that this will be 732\",\"score\":0.5744889,\"metadata\":[{\"name\":\"time\",\"value\":\"1:15:29\"},{\"name\":\"title\",\"value\":\"730\"},{\"name\":\"lang\",\"value\":\"eng\"},{\"name\":\"offset\",\"value\":\"0\"},{\"name\":\"len\",\"value\":\"111\"}],\"documentIndex\":0,\"corpusKey\":{\"customerId\":0,\"corpusId\":4,\"semantics\":\"DEFAULT\",\"dim\":[],\"metadataFilter\":\"\",\"lexicalInterpolationConfig\":null},\"resultOffset\":91,\"resultLength\":111},{\"text\":\"221 with purpose that help me think about the problem differently you're not governed by the same thing so when I 222 <b>went into the world of work and I just want to give people a practical example of what Dr mate is saying is spot on</b> 223 when I went into the world of work we were all told that we had to be good at 224\",\"score\":0.57305664,\"metadata\":[{\"name\":\"time\",\"value\":\"23:11\"},{\"name\":\"title\",\"value\":\"222\"},{\"name\":\"lang\",\"value\":\"eng\"},{\"name\":\"offset\",\"value\":\"0\"},{\"name\":\"len\",\"value\":\"115\"}],\"documentIndex\":0,\"corpusKey\":{\"customerId\":0,\"corpusId\":4,\"semantics\":\"DEFAULT\",\"dim\":[],\"metadataFilter\":\"\",\"lexicalInterpolationConfig\":null},\"resultOffset\":121,\"resultLength\":115},{\"text\":\"12 Gabor mate who's a cell rated speaker and best-selling author he's highly 13 <b>sought after for his expertise on a range of topics such as addiction stress and childhood development Dr mate has</b> 14 written several best-selling books including the award-winning in the realm of hungry ghosts close encounters with 15\",\"score\":0.56645,\"metadata\":[{\"name\":\"time\",\"value\":\"1:23\"},{\"name\":\"title\",\"value\":\"13\"},{\"name\":\"lang\",\"value\":\"eng\"},{\"name\":\"offset\",\"value\":\"0\"},{\"name\":\"len\",\"value\":\"114\"}],\"documentIndex\":0,\"corpusKey\":{\"customerId\":0,\"corpusId\":4,\"semantics\":\"DEFAULT\",\"dim\":[],\"metadataFilter\":\"\",\"lexicalInterpolationConfig\":null},\"resultOffset\":83,\"resultLength\":114}],\"status\":[],\"document\":[{\"id\":\"mjh\",\"metadata\":[{\"name\":\"title\",\"value\":\"RAG on transcript\"},{\"name\":\"desc\",\"value\":\"Yt transcript\"}]}],\"summary\":[{\"text\":\"Gabor Mate is a celebrated speaker and best-selling author known for his expertise on various topics like addiction, stress, and childhood development [12]. He has written multiple best-selling books, including \\\"In the Realm of Hungry Ghosts: Close Encounters with Addiction\\\" [12]. Mate's insights have garnered significant interest, with people seeking his wisdom on trauma, illness, and healing in a toxic culture [20]. His work delves into the impact of mental illness and obesity rates in society, shedding light on prevalent issues affecting millions of individuals [179]. Mate's profound perspectives on relationships and self-discovery have resonated with many, offering a fresh outlook on personal growth and emotional well-being [106]. Through speaking engagements and engagements on social media platforms like Instagram, Mate shares his knowledge and encourages discussions to enhance understanding and clarity on important concepts [726, 733, 729].\",\"lang\":\"eng\",\"prompt\":\"\",\"chat\":{\"conversationId\":\"\",\"turnId\":\"\",\"rephrasedQuery\":\"\",\"status\":null},\"factualConsistency\":{\"score\":0.54751414,\"status\":{\"code\":\"OK\",\"statusDetail\":\"\",\"cause\":null}},\"done\":true,\"status\":[],\"futureId\":2}],\"futureId\":1}],\"status\":[],\"metrics\":null}\n"
          ]
        }
      ]
    },
    {
      "cell_type": "code",
      "source": [
        "from together import Together\n",
        "\n",
        "client = Together(api_key=tog)\n",
        "\n",
        "response = client.chat.completions.create(\n",
        "    model=\"meta-llama/Llama-3-8b-chat-hf\",\n",
        "    messages=[{\"role\": \"user\", \"content\": \"What are some fun things to do in New York\"}],\n",
        ")\n",
        "print(response.choices[0].message.content)"
      ],
      "metadata": {
        "colab": {
          "base_uri": "https://localhost:8080/"
        },
        "id": "5Ue782EoOHJe",
        "outputId": "b6c21a0f-dc40-4d65-826b-54159ce3ee72"
      },
      "execution_count": 12,
      "outputs": [
        {
          "output_type": "stream",
          "name": "stdout",
          "text": [
            "The city that never sleeps! New York City is a vibrant and exciting place to visit, with endless options for entertainment, culture, and adventure. Here are some fun things to do in New York:\n",
            "\n",
            "**Iconic Landmarks and Attractions**\n",
            "\n",
            "1. Visit the Statue of Liberty and Ellis Island: Take a ferry to Liberty Island to see the iconic statue up close and visit the Ellis Island Immigration Museum.\n",
            "2. Explore the Empire State Building: Enjoy panoramic views of the city from the observation deck on the 86th floor.\n",
            "3. Walk across the Brooklyn Bridge: Take in the stunning views of the Manhattan skyline and the East River.\n",
            "4. Visit the 9/11 Memorial & Museum: A poignant tribute to the victims of the 9/11 attacks.\n",
            "5. See a Broadway Show: Catch a performance of a hit musical or play on Broadway.\n",
            "\n",
            "**Museums and Galleries**\n",
            "\n",
            "1. The Metropolitan Museum of Art: One of the world's largest and most famous museums, with a vast collection of art and artifacts.\n",
            "2. The Museum of Modern Art (MoMA): A must-visit for modern art enthusiasts, with works by Warhol, Picasso, and more.\n",
            "3. The American Museum of Natural History: Explore the wonders of the natural world, from dinosaurs to space exploration.\n",
            "4. The Guggenheim Museum: Designed by Frank Lloyd Wright, this museum features an impressive collection of modern and contemporary art.\n",
            "5. The Whitney Museum of American Art: Focuses on American art from the 20th and 21st centuries.\n",
            "\n",
            "**Parks and Outdoor Spaces**\n",
            "\n",
            "1. Central Park: A tranquil oasis in the middle of Manhattan, with walking paths, lakes, and plenty of green space.\n",
            "2. Prospect Park: A beautiful park in Brooklyn with a lake, walking trails, and plenty of picnic spots.\n",
            "3. The High Line: An elevated park built on an old rail line, with great views of the Hudson River.\n",
            "4. Brooklyn Bridge Park: A waterfront park with great views of the Manhattan skyline and the Brooklyn Bridge.\n",
            "5. The Bronx Zoo: The largest metropolitan zoo in the United States, with over 6,000 animals from around the world.\n",
            "\n",
            "**Food and Drink**\n",
            "\n",
            "1. Try a classic New York-style pizza: Visit Lombardi's, Joe's Pizza, or Patsy's Pizzeria for a slice of heaven.\n",
            "2. Explore Chinatown and Little Italy: Sample the flavors of Asia and Italy in these vibrant neighborhoods.\n",
            "3. Visit a classic diner: Try a classic American breakfast or burger at a diner like Sarabeth's or Ellen's Stardust Diner.\n",
            "4. Take a food tour: Sample the best of New York's culinary scene on a guided tour.\n",
            "5. Visit a rooftop bar: Enjoy stunning views of the city while sipping a cocktail at a rooftop bar like 230 Fifth or the Top of the Strand.\n",
            "\n",
            "**Neighborhoods to Explore**\n",
            "\n",
            "1. SoHo: Known for its trendy boutiques, art galleries, and cast-iron buildings.\n",
            "2. Greenwich Village: A charming neighborhood with historic brownstones, charming streets, and plenty of restaurants and bars.\n",
            "3. Williamsburg: A hip neighborhood in Brooklyn with a thriving arts scene, indie music venues, and trendy restaurants.\n",
            "4. Harlem: A historic neighborhood with a rich African-American culture, known for its jazz clubs, soul food restaurants, and the Apollo Theater.\n",
            "5. Chinatown and Little Italy: Explore the vibrant streets of these two neighborhoods, filled with colorful markets, street food, and cultural attractions.\n",
            "\n",
            "These are just a few of the many fun things to do in New York City. With so much to see and do, you're sure to have an unforgettable experience in the city that never sleeps!\n"
          ]
        }
      ]
    },
    {
      "cell_type": "code",
      "source": [
        "resp = json.loads(response.text)"
      ],
      "metadata": {
        "id": "PfJWdwzR1qjz"
      },
      "execution_count": 5,
      "outputs": []
    },
    {
      "cell_type": "code",
      "source": [
        "res = resp['responseSet']"
      ],
      "metadata": {
        "id": "pK1NGiKk3Amc"
      },
      "execution_count": 6,
      "outputs": []
    },
    {
      "cell_type": "code",
      "source": [
        "res"
      ],
      "metadata": {
        "colab": {
          "base_uri": "https://localhost:8080/"
        },
        "id": "y7KZuwQK3BEB",
        "outputId": "ed8867e1-bed8-4487-bf16-52999a1fbe11"
      },
      "execution_count": 7,
      "outputs": [
        {
          "output_type": "execute_result",
          "data": {
            "text/plain": [
              "[{'response': [{'text': \"11 only time on the show I hope this starts to become a regular guest on the show I'm talking about none other than Dr 12 <b>Gabor mate who's a cell rated speaker and best-selling author he's highly</b> 13 sought after for his expertise on a range of topics such as addiction stress and childhood development Dr mate has 14\",\n",
              "    'score': 0.77499425,\n",
              "    'metadata': [{'name': 'time', 'value': '1:18'},\n",
              "     {'name': 'title', 'value': '12'},\n",
              "     {'name': 'lang', 'value': 'eng'},\n",
              "     {'name': 'offset', 'value': '0'},\n",
              "     {'name': 'len', 'value': '73'}],\n",
              "    'documentIndex': 0,\n",
              "    'corpusKey': {'customerId': 0,\n",
              "     'corpusId': 4,\n",
              "     'semantics': 'DEFAULT',\n",
              "     'dim': [],\n",
              "     'metadataFilter': '',\n",
              "     'lexicalInterpolationConfig': None},\n",
              "    'resultOffset': 125,\n",
              "    'resultLength': 73},\n",
              "   {'text': '20 is called the myth of normal trauma illness and healing in a toxic culture 21 <b>please welcome to the show Dr Gabor mate thank you so much for being here</b> 22 pleasure to be here thank you I love sitting down with people who are deeply immersed and obsessed 23',\n",
              "    'score': 0.7194565,\n",
              "    'metadata': [{'name': 'time', 'value': '2:15'},\n",
              "     {'name': 'title', 'value': '21'},\n",
              "     {'name': 'lang', 'value': 'eng'},\n",
              "     {'name': 'offset', 'value': '0'},\n",
              "     {'name': 'len', 'value': '73'}],\n",
              "    'documentIndex': 0,\n",
              "    'corpusKey': {'customerId': 0,\n",
              "     'corpusId': 4,\n",
              "     'semantics': 'DEFAULT',\n",
              "     'dim': [],\n",
              "     'metadataFilter': '',\n",
              "     'lexicalInterpolationConfig': None},\n",
              "    'resultOffset': 84,\n",
              "    'resultLength': 73},\n",
              "   {'text': \"759 answer we've never had that on the show I love that answer that's a brilliant answer that's fantastic I love I love 760 <b>the way you think the myth of normal is out right now trauma illness and healing in a toxic culture Dr gabo mate uh it's</b> 761 been an honor thank you so much it's been so much fun and we'll do it again absolutely thank you thank you thank you if you want even more videos just like 762\",\n",
              "    'score': 0.62762123,\n",
              "    'metadata': [{'name': 'time', 'value': '1:18:30'},\n",
              "     {'name': 'title', 'value': '760'},\n",
              "     {'name': 'lang', 'value': 'eng'},\n",
              "     {'name': 'offset', 'value': '0'},\n",
              "     {'name': 'len', 'value': '120'}],\n",
              "    'documentIndex': 0,\n",
              "    'corpusKey': {'customerId': 0,\n",
              "     'corpusId': 4,\n",
              "     'semantics': 'DEFAULT',\n",
              "     'dim': [],\n",
              "     'metadataFilter': '',\n",
              "     'lexicalInterpolationConfig': None},\n",
              "    'resultOffset': 127,\n",
              "    'resultLength': 120},\n",
              "   {'text': \"726 Instagram so if you want to see my notes or takeaways then they'll be there as well and please please please follow Dr 727 <b>mate on Instagram as well we will put the links in the show notes follow him</b> 728 and share all the insights that you got from this if there's something that stood out I mean there were so many beautiful descriptions of words 729\",\n",
              "    'score': 0.609283,\n",
              "    'metadata': [{'name': 'time', 'value': '1:15:13'},\n",
              "     {'name': 'title', 'value': '727'},\n",
              "     {'name': 'lang', 'value': 'eng'},\n",
              "     {'name': 'offset', 'value': '0'},\n",
              "     {'name': 'len', 'value': '76'}],\n",
              "    'documentIndex': 0,\n",
              "    'corpusKey': {'customerId': 0,\n",
              "     'corpusId': 4,\n",
              "     'semantics': 'DEFAULT',\n",
              "     'dim': [],\n",
              "     'metadataFilter': '',\n",
              "     'lexicalInterpolationConfig': None},\n",
              "    'resultOffset': 130,\n",
              "    'resultLength': 76},\n",
              "   {'text': '179 in this Society yeah just to share some of those stats that are in the book that 180 <b>Dr mate is referring to we have in 2019 more than 50 million Americans over 20 percent of the US</b> 181 adults suffered an episode of mental illness rates of obesity along with the multiple health risks it possesses are 182',\n",
              "    'score': 0.59802526,\n",
              "    'metadata': [{'name': 'time', 'value': '18:48'},\n",
              "     {'name': 'title', 'value': '180'},\n",
              "     {'name': 'lang', 'value': 'eng'},\n",
              "     {'name': 'offset', 'value': '0'},\n",
              "     {'name': 'len', 'value': '96'}],\n",
              "    'documentIndex': 0,\n",
              "    'corpusKey': {'customerId': 0,\n",
              "     'corpusId': 4,\n",
              "     'semantics': 'DEFAULT',\n",
              "     'dim': [],\n",
              "     'metadataFilter': '',\n",
              "     'lexicalInterpolationConfig': None},\n",
              "    'resultOffset': 92,\n",
              "    'resultLength': 96},\n",
              "   {'text': \"733 which are our fast five questions uh is there anything you'd like to share that I have given you an opportunity Yes to 734 <b>God I can't think of anything that you ever knows I love it okay well these are five questions that have to be answered Dr. Maté on Final Five</b> 735 in one word to one sentence maximum so you have like a very tight like almost think of like Twitter these are final 736\",\n",
              "    'score': 0.58374894,\n",
              "    'metadata': [{'name': 'time', 'value': '1:15:52'},\n",
              "     {'name': 'title', 'value': '734'},\n",
              "     {'name': 'lang', 'value': 'eng'},\n",
              "     {'name': 'offset', 'value': '0'},\n",
              "     {'name': 'len', 'value': '142'}],\n",
              "    'documentIndex': 0,\n",
              "    'corpusKey': {'customerId': 0,\n",
              "     'corpusId': 4,\n",
              "     'semantics': 'DEFAULT',\n",
              "     'dim': [],\n",
              "     'metadataFilter': '',\n",
              "     'lexicalInterpolationConfig': None},\n",
              "    'resultOffset': 130,\n",
              "    'resultLength': 142},\n",
              "   {'text': \"106 be made to feel guilty that I didn't love someone enough and I found that I would repeat that in 107 <b>my own relationship with my wife where I would over love and if she didn't match that level of</b> 108 love I would then make her feel guilty and it took me years to really discover 109\",\n",
              "    'score': 0.5758336,\n",
              "    'metadata': [{'name': 'time', 'value': '11:11'},\n",
              "     {'name': 'title', 'value': '107'},\n",
              "     {'name': 'lang', 'value': 'eng'},\n",
              "     {'name': 'offset', 'value': '0'},\n",
              "     {'name': 'len', 'value': '94'}],\n",
              "    'documentIndex': 0,\n",
              "    'corpusKey': {'customerId': 0,\n",
              "     'corpusId': 4,\n",
              "     'semantics': 'DEFAULT',\n",
              "     'dim': [],\n",
              "     'metadataFilter': '',\n",
              "     'lexicalInterpolationConfig': None},\n",
              "    'resultOffset': 108,\n",
              "    'resultLength': 94},\n",
              "   {'text': \"729 definitions Clarity between ideas that I think have just just words that we use 730 <b>every day and we don't know what they mean so if something stood out to you tag me and Dr Mateo on Instagram on</b> 731 Twitter on Tick Tock let us know what you've learned and what you've taken away and I promise you that this will be 732\",\n",
              "    'score': 0.5744889,\n",
              "    'metadata': [{'name': 'time', 'value': '1:15:29'},\n",
              "     {'name': 'title', 'value': '730'},\n",
              "     {'name': 'lang', 'value': 'eng'},\n",
              "     {'name': 'offset', 'value': '0'},\n",
              "     {'name': 'len', 'value': '111'}],\n",
              "    'documentIndex': 0,\n",
              "    'corpusKey': {'customerId': 0,\n",
              "     'corpusId': 4,\n",
              "     'semantics': 'DEFAULT',\n",
              "     'dim': [],\n",
              "     'metadataFilter': '',\n",
              "     'lexicalInterpolationConfig': None},\n",
              "    'resultOffset': 91,\n",
              "    'resultLength': 111},\n",
              "   {'text': \"221 with purpose that help me think about the problem differently you're not governed by the same thing so when I 222 <b>went into the world of work and I just want to give people a practical example of what Dr mate is saying is spot on</b> 223 when I went into the world of work we were all told that we had to be good at 224\",\n",
              "    'score': 0.57305664,\n",
              "    'metadata': [{'name': 'time', 'value': '23:11'},\n",
              "     {'name': 'title', 'value': '222'},\n",
              "     {'name': 'lang', 'value': 'eng'},\n",
              "     {'name': 'offset', 'value': '0'},\n",
              "     {'name': 'len', 'value': '115'}],\n",
              "    'documentIndex': 0,\n",
              "    'corpusKey': {'customerId': 0,\n",
              "     'corpusId': 4,\n",
              "     'semantics': 'DEFAULT',\n",
              "     'dim': [],\n",
              "     'metadataFilter': '',\n",
              "     'lexicalInterpolationConfig': None},\n",
              "    'resultOffset': 121,\n",
              "    'resultLength': 115},\n",
              "   {'text': \"12 Gabor mate who's a cell rated speaker and best-selling author he's highly 13 <b>sought after for his expertise on a range of topics such as addiction stress and childhood development Dr mate has</b> 14 written several best-selling books including the award-winning in the realm of hungry ghosts close encounters with 15\",\n",
              "    'score': 0.56645,\n",
              "    'metadata': [{'name': 'time', 'value': '1:23'},\n",
              "     {'name': 'title', 'value': '13'},\n",
              "     {'name': 'lang', 'value': 'eng'},\n",
              "     {'name': 'offset', 'value': '0'},\n",
              "     {'name': 'len', 'value': '114'}],\n",
              "    'documentIndex': 0,\n",
              "    'corpusKey': {'customerId': 0,\n",
              "     'corpusId': 4,\n",
              "     'semantics': 'DEFAULT',\n",
              "     'dim': [],\n",
              "     'metadataFilter': '',\n",
              "     'lexicalInterpolationConfig': None},\n",
              "    'resultOffset': 83,\n",
              "    'resultLength': 114}],\n",
              "  'status': [],\n",
              "  'document': [{'id': 'mjh',\n",
              "    'metadata': [{'name': 'title', 'value': 'RAG on transcript'},\n",
              "     {'name': 'desc', 'value': 'Yt transcript'}]}],\n",
              "  'summary': [{'text': 'Gabor Mate is a celebrated speaker and best-selling author known for his expertise on various topics like addiction, stress, and childhood development [12]. He has written multiple best-selling books, including \"In the Realm of Hungry Ghosts: Close Encounters with Addiction\" [12]. Mate\\'s insights have garnered significant interest, with people seeking his wisdom on trauma, illness, and healing in a toxic culture [20]. His work delves into the impact of mental illness and obesity rates in society, shedding light on prevalent issues affecting millions of individuals [179]. Mate\\'s profound perspectives on relationships and self-discovery have resonated with many, offering a fresh outlook on personal growth and emotional well-being [106]. Through speaking engagements and engagements on social media platforms like Instagram, Mate shares his knowledge and encourages discussions to enhance understanding and clarity on important concepts [726, 733, 729].',\n",
              "    'lang': 'eng',\n",
              "    'prompt': '',\n",
              "    'chat': {'conversationId': '',\n",
              "     'turnId': '',\n",
              "     'rephrasedQuery': '',\n",
              "     'status': None},\n",
              "    'factualConsistency': {'score': 0.54751414,\n",
              "     'status': {'code': 'OK', 'statusDetail': '', 'cause': None}},\n",
              "    'done': True,\n",
              "    'status': [],\n",
              "    'futureId': 2}],\n",
              "  'futureId': 1}]"
            ]
          },
          "metadata": {},
          "execution_count": 7
        }
      ]
    },
    {
      "cell_type": "code",
      "source": [
        "import requests\n",
        "import json\n",
        "\n",
        "url = \"https://api.vectara.io/v1/list-documents\"\n",
        "\n",
        "payload = json.dumps({\n",
        "  \"corpusId\": 4,\n",
        "  \"numResults\": 0,\n",
        "  \"pageKey\": \"\",\n",
        "  \"metadataFilter\": \"\"\n",
        "})\n",
        "headers = {\n",
        "  'Content-Type': 'application/json',\n",
        "  'Accept': 'application/json',\n",
        "  'x-api-key': vec_api\n",
        "}\n",
        "\n",
        "response = requests.request(\"POST\", url, headers=headers, data=payload)\n",
        "\n",
        "print(response.text)"
      ],
      "metadata": {
        "colab": {
          "base_uri": "https://localhost:8080/",
          "height": 211
        },
        "id": "tJhIvyAL5hhd",
        "outputId": "dbb2b451-818a-4637-ad4f-ca510db4793e"
      },
      "execution_count": 1,
      "outputs": [
        {
          "output_type": "error",
          "ename": "NameError",
          "evalue": "name 'vec_api' is not defined",
          "traceback": [
            "\u001b[0;31m---------------------------------------------------------------------------\u001b[0m",
            "\u001b[0;31mNameError\u001b[0m                                 Traceback (most recent call last)",
            "\u001b[0;32m<ipython-input-1-67b6fa2ed0d7>\u001b[0m in \u001b[0;36m<cell line: 13>\u001b[0;34m()\u001b[0m\n\u001b[1;32m     13\u001b[0m   \u001b[0;34m'Content-Type'\u001b[0m\u001b[0;34m:\u001b[0m \u001b[0;34m'application/json'\u001b[0m\u001b[0;34m,\u001b[0m\u001b[0;34m\u001b[0m\u001b[0;34m\u001b[0m\u001b[0m\n\u001b[1;32m     14\u001b[0m   \u001b[0;34m'Accept'\u001b[0m\u001b[0;34m:\u001b[0m \u001b[0;34m'application/json'\u001b[0m\u001b[0;34m,\u001b[0m\u001b[0;34m\u001b[0m\u001b[0;34m\u001b[0m\u001b[0m\n\u001b[0;32m---> 15\u001b[0;31m   \u001b[0;34m'x-api-key'\u001b[0m\u001b[0;34m:\u001b[0m \u001b[0mvec_api\u001b[0m\u001b[0;34m\u001b[0m\u001b[0;34m\u001b[0m\u001b[0m\n\u001b[0m\u001b[1;32m     16\u001b[0m }\n\u001b[1;32m     17\u001b[0m \u001b[0;34m\u001b[0m\u001b[0m\n",
            "\u001b[0;31mNameError\u001b[0m: name 'vec_api' is not defined"
          ]
        }
      ]
    },
    {
      "cell_type": "code",
      "source": [],
      "metadata": {
        "id": "SSSkgswC33gv"
      },
      "execution_count": null,
      "outputs": []
    }
  ],
  "metadata": {
    "colab": {
      "name": "Welcome To Colaboratory",
      "provenance": [],
      "include_colab_link": true
    },
    "kernelspec": {
      "display_name": "Python 3",
      "name": "python3"
    }
  },
  "nbformat": 4,
  "nbformat_minor": 0
}